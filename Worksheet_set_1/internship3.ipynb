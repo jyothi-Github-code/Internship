{
 "cells": [
  {
   "cell_type": "markdown",
   "id": "5fa9c1de",
   "metadata": {},
   "source": [
    "Python program to find the factorial of a number:"
   ]
  },
  {
   "cell_type": "code",
   "execution_count": 5,
   "id": "55aad94c",
   "metadata": {},
   "outputs": [
    {
     "name": "stdout",
     "output_type": "stream",
     "text": [
      "Enter a number: 5\n",
      "The factorial of 5 is 120\n"
     ]
    }
   ],
   "source": [
    "def factorial(n):\n",
    "    if n == 0 or n == 1:\n",
    "        return 1\n",
    "    else:\n",
    "        return n * factorial(n - 1)\n",
    "\n",
    "# Test the function\n",
    "number = int(input(\"Enter a number: \"))\n",
    "print(f\"The factorial of {number} is {factorial(number)}\")"
   ]
  },
  {
   "cell_type": "markdown",
   "id": "adbe9c6c",
   "metadata": {},
   "source": [
    "Python program to find whether a number is prime or composite:"
   ]
  },
  {
   "cell_type": "code",
   "execution_count": 14,
   "id": "94d462f0",
   "metadata": {},
   "outputs": [
    {
     "name": "stdout",
     "output_type": "stream",
     "text": [
      "Enter a number: 12\n",
      "12 is a composite number.\n"
     ]
    }
   ],
   "source": [
    "def is_prime(num):\n",
    "    if num<=1:\n",
    "        return False\n",
    "    for i in range(2, int(num*0.5)+1):\n",
    "        if num%i==0:\n",
    "            return False\n",
    "    return True\n",
    "\n",
    "    # Test the function\n",
    "number = int(input(\"Enter a number: \"))\n",
    "if is_prime(number):\n",
    "    print(f\"{number} is a prime number.\")\n",
    "else:\n",
    "    if number > 1:\n",
    "        print(f\"{number} is a composite number.\")\n",
    "    else:\n",
    "        print(f\"{number} is neither prime nor composite.\")"
   ]
  },
  {
   "cell_type": "markdown",
   "id": "e4bcbbf1",
   "metadata": {},
   "source": [
    "Python program to check whether a given string is a palindrome or not:"
   ]
  },
  {
   "cell_type": "code",
   "execution_count": 16,
   "id": "ef582f8b",
   "metadata": {},
   "outputs": [
    {
     "name": "stdout",
     "output_type": "stream",
     "text": [
      "Enter a string: civic\n",
      "'civic' is a palindrome.\n"
     ]
    }
   ],
   "source": [
    "def is_palindrome(s):\n",
    "    return s == s[::-1]\n",
    "\n",
    "# Test the function\n",
    "string = input(\"Enter a string: \").lower().replace(\" \", \"\")  # Normalize input (ignore case and spaces)\n",
    "if is_palindrome(string):\n",
    "    print(f\"'{string}' is a palindrome.\")\n",
    "else:\n",
    "    print(f\"'{string}' is not a palindrome.\")"
   ]
  },
  {
   "cell_type": "markdown",
   "id": "371225e6",
   "metadata": {},
   "source": [
    "Python program to get the third side of a right-angled triangle from two given sides (using Pythagoras theorem):"
   ]
  },
  {
   "cell_type": "code",
   "execution_count": 21,
   "id": "0d4258d4",
   "metadata": {},
   "outputs": [
    {
     "name": "stdout",
     "output_type": "stream",
     "text": [
      "Enter side a: 6\n",
      "Enter side b: 5\n",
      "Is this the hypotenuse? (yes/no): no\n",
      "The third side (one of the sides) is: 3.3166247903554\n"
     ]
    }
   ],
   "source": [
    "import math\n",
    "\n",
    "def third_side(a, b, hypotenuse=False):\n",
    "    if hypotenuse:\n",
    "        return math.sqrt(a**2 + b**2)  # Finding the hypotenuse\n",
    "    else:\n",
    "        return math.sqrt(a**2 - b**2)  # Finding one of the other sides\n",
    "\n",
    "# Test the function\n",
    "a = float(input(\"Enter side a: \"))\n",
    "b = float(input(\"Enter side b: \"))\n",
    "hypotenuse = input(\"Is this the hypotenuse? (yes/no): \").strip().lower()\n",
    "\n",
    "if hypotenuse == \"yes\":\n",
    "    print(f\"The third side (hypotenuse) is: {third_side(a, b, hypotenuse=True)}\")\n",
    "else:\n",
    "    print(f\"The third side (one of the sides) is: {third_side(a, b)}\")"
   ]
  },
  {
   "cell_type": "markdown",
   "id": "83d2b9c4",
   "metadata": {},
   "source": [
    "Python program to print the frequency of each of the characters present in a given string:"
   ]
  },
  {
   "cell_type": "code",
   "execution_count": 22,
   "id": "8e8c6ebb",
   "metadata": {},
   "outputs": [
    {
     "name": "stdout",
     "output_type": "stream",
     "text": [
      "Enter a string: required\n",
      "'r': 2\n",
      "'e': 2\n",
      "'q': 1\n",
      "'u': 1\n",
      "'i': 1\n",
      "'d': 1\n"
     ]
    }
   ],
   "source": [
    "from collections import Counter\n",
    "\n",
    "def char_frequency(s):\n",
    "    return Counter(s)\n",
    "\n",
    "# Test the function\n",
    "string = input(\"Enter a string: \")\n",
    "frequency = char_frequency(string)\n",
    "\n",
    "for char, count in frequency.items():\n",
    "    print(f\"'{char}': {count}\")"
   ]
  }
 ],
 "metadata": {
  "kernelspec": {
   "display_name": "Python 3 (ipykernel)",
   "language": "python",
   "name": "python3"
  },
  "language_info": {
   "codemirror_mode": {
    "name": "ipython",
    "version": 3
   },
   "file_extension": ".py",
   "mimetype": "text/x-python",
   "name": "python",
   "nbconvert_exporter": "python",
   "pygments_lexer": "ipython3",
   "version": "3.11.5"
  }
 },
 "nbformat": 4,
 "nbformat_minor": 5
}
